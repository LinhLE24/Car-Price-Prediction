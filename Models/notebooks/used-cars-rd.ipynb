{
 "cells": [
  {
   "cell_type": "code",
   "execution_count": 1,
   "id": "9ea9897f",
   "metadata": {
    "ExecuteTime": {
     "end_time": "2022-06-12T17:10:41.895923Z",
     "start_time": "2022-06-12T17:10:40.368112Z"
    }
   },
   "outputs": [],
   "source": [
    "import warnings\n",
    "import pandas as pd\n",
    "import numpy as np\n",
    "import seaborn as sns\n",
    "import matplotlib.pyplot as plt\n",
    "from dython import nominal, data_utils\n",
    "from scipy.stats import norm, skew\n",
    "\n",
    "warnings.filterwarnings('ignore')"
   ]
  },
  {
   "cell_type": "code",
   "execution_count": 2,
   "id": "b32da408",
   "metadata": {
    "ExecuteTime": {
     "end_time": "2022-06-12T17:10:43.061456Z",
     "start_time": "2022-06-12T17:10:42.244936Z"
    }
   },
   "outputs": [
    {
     "data": {
      "text/html": [
       "<div>\n",
       "<style scoped>\n",
       "    .dataframe tbody tr th:only-of-type {\n",
       "        vertical-align: middle;\n",
       "    }\n",
       "\n",
       "    .dataframe tbody tr th {\n",
       "        vertical-align: top;\n",
       "    }\n",
       "\n",
       "    .dataframe thead th {\n",
       "        text-align: right;\n",
       "    }\n",
       "</style>\n",
       "<table border=\"1\" class=\"dataframe\">\n",
       "  <thead>\n",
       "    <tr style=\"text-align: right;\">\n",
       "      <th></th>\n",
       "      <th>dateCrawled</th>\n",
       "      <th>name</th>\n",
       "      <th>seller</th>\n",
       "      <th>offerType</th>\n",
       "      <th>price</th>\n",
       "      <th>abtest</th>\n",
       "      <th>vehicleType</th>\n",
       "      <th>yearOfRegistration</th>\n",
       "      <th>gearbox</th>\n",
       "      <th>powerPS</th>\n",
       "      <th>model</th>\n",
       "      <th>kilometer</th>\n",
       "      <th>monthOfRegistration</th>\n",
       "      <th>fuelType</th>\n",
       "      <th>brand</th>\n",
       "      <th>notRepairedDamage</th>\n",
       "      <th>dateCreated</th>\n",
       "      <th>nrOfPictures</th>\n",
       "      <th>postalCode</th>\n",
       "      <th>lastSeen</th>\n",
       "    </tr>\n",
       "  </thead>\n",
       "  <tbody>\n",
       "    <tr>\n",
       "      <th>349915</th>\n",
       "      <td>2016-04-03 17:25:22</td>\n",
       "      <td>Mitsubishi_Space_Star_GDI_1800_GLX</td>\n",
       "      <td>privat</td>\n",
       "      <td>Angebot</td>\n",
       "      <td>1570</td>\n",
       "      <td>test</td>\n",
       "      <td>bus</td>\n",
       "      <td>1999</td>\n",
       "      <td>manuell</td>\n",
       "      <td>122</td>\n",
       "      <td>andere</td>\n",
       "      <td>125000</td>\n",
       "      <td>7</td>\n",
       "      <td>benzin</td>\n",
       "      <td>mitsubishi</td>\n",
       "      <td>nein</td>\n",
       "      <td>2016-04-03 00:00:00</td>\n",
       "      <td>0</td>\n",
       "      <td>55425</td>\n",
       "      <td>2016-04-07 01:16:19</td>\n",
       "    </tr>\n",
       "    <tr>\n",
       "      <th>94709</th>\n",
       "      <td>2016-03-17 11:36:36</td>\n",
       "      <td>Ford_Focus_C_MAX_2.0_TDCi_DPF_Ghia</td>\n",
       "      <td>privat</td>\n",
       "      <td>Angebot</td>\n",
       "      <td>2299</td>\n",
       "      <td>control</td>\n",
       "      <td>bus</td>\n",
       "      <td>2004</td>\n",
       "      <td>manuell</td>\n",
       "      <td>136</td>\n",
       "      <td>focus</td>\n",
       "      <td>150000</td>\n",
       "      <td>9</td>\n",
       "      <td>diesel</td>\n",
       "      <td>ford</td>\n",
       "      <td>ja</td>\n",
       "      <td>2016-03-17 00:00:00</td>\n",
       "      <td>0</td>\n",
       "      <td>38723</td>\n",
       "      <td>2016-03-31 20:17:01</td>\n",
       "    </tr>\n",
       "    <tr>\n",
       "      <th>260093</th>\n",
       "      <td>2016-03-08 20:25:43</td>\n",
       "      <td>Mercedes_Benz_CLS_350_CDI_7G_TRONIC_Scheckheft...</td>\n",
       "      <td>privat</td>\n",
       "      <td>Angebot</td>\n",
       "      <td>19950</td>\n",
       "      <td>test</td>\n",
       "      <td>coupe</td>\n",
       "      <td>2010</td>\n",
       "      <td>automatik</td>\n",
       "      <td>224</td>\n",
       "      <td>andere</td>\n",
       "      <td>150000</td>\n",
       "      <td>5</td>\n",
       "      <td>diesel</td>\n",
       "      <td>mercedes_benz</td>\n",
       "      <td>nein</td>\n",
       "      <td>2016-03-08 00:00:00</td>\n",
       "      <td>0</td>\n",
       "      <td>60486</td>\n",
       "      <td>2016-04-05 13:18:53</td>\n",
       "    </tr>\n",
       "    <tr>\n",
       "      <th>51063</th>\n",
       "      <td>2016-03-25 00:56:18</td>\n",
       "      <td>Renault_Laguna_Limousine_1.8_16V_Top_Zustand</td>\n",
       "      <td>privat</td>\n",
       "      <td>Angebot</td>\n",
       "      <td>950</td>\n",
       "      <td>control</td>\n",
       "      <td>limousine</td>\n",
       "      <td>1999</td>\n",
       "      <td>manuell</td>\n",
       "      <td>120</td>\n",
       "      <td>laguna</td>\n",
       "      <td>150000</td>\n",
       "      <td>5</td>\n",
       "      <td>benzin</td>\n",
       "      <td>renault</td>\n",
       "      <td>nein</td>\n",
       "      <td>2016-03-25 00:00:00</td>\n",
       "      <td>0</td>\n",
       "      <td>86720</td>\n",
       "      <td>2016-04-06 04:46:16</td>\n",
       "    </tr>\n",
       "    <tr>\n",
       "      <th>30614</th>\n",
       "      <td>2016-03-30 22:38:18</td>\n",
       "      <td>Golf_2_1.8_kr</td>\n",
       "      <td>privat</td>\n",
       "      <td>Angebot</td>\n",
       "      <td>625</td>\n",
       "      <td>control</td>\n",
       "      <td>limousine</td>\n",
       "      <td>1986</td>\n",
       "      <td>manuell</td>\n",
       "      <td>90</td>\n",
       "      <td>golf</td>\n",
       "      <td>150000</td>\n",
       "      <td>8</td>\n",
       "      <td>benzin</td>\n",
       "      <td>volkswagen</td>\n",
       "      <td>NaN</td>\n",
       "      <td>2016-03-30 00:00:00</td>\n",
       "      <td>0</td>\n",
       "      <td>23972</td>\n",
       "      <td>2016-03-30 22:38:18</td>\n",
       "    </tr>\n",
       "  </tbody>\n",
       "</table>\n",
       "</div>"
      ],
      "text/plain": [
       "                dateCrawled  \\\n",
       "349915  2016-04-03 17:25:22   \n",
       "94709   2016-03-17 11:36:36   \n",
       "260093  2016-03-08 20:25:43   \n",
       "51063   2016-03-25 00:56:18   \n",
       "30614   2016-03-30 22:38:18   \n",
       "\n",
       "                                                     name  seller offerType  \\\n",
       "349915                 Mitsubishi_Space_Star_GDI_1800_GLX  privat   Angebot   \n",
       "94709                  Ford_Focus_C_MAX_2.0_TDCi_DPF_Ghia  privat   Angebot   \n",
       "260093  Mercedes_Benz_CLS_350_CDI_7G_TRONIC_Scheckheft...  privat   Angebot   \n",
       "51063        Renault_Laguna_Limousine_1.8_16V_Top_Zustand  privat   Angebot   \n",
       "30614                                       Golf_2_1.8_kr  privat   Angebot   \n",
       "\n",
       "        price   abtest vehicleType  yearOfRegistration    gearbox  powerPS  \\\n",
       "349915   1570     test         bus                1999    manuell      122   \n",
       "94709    2299  control         bus                2004    manuell      136   \n",
       "260093  19950     test       coupe                2010  automatik      224   \n",
       "51063     950  control   limousine                1999    manuell      120   \n",
       "30614     625  control   limousine                1986    manuell       90   \n",
       "\n",
       "         model  kilometer  monthOfRegistration fuelType          brand  \\\n",
       "349915  andere     125000                    7   benzin     mitsubishi   \n",
       "94709    focus     150000                    9   diesel           ford   \n",
       "260093  andere     150000                    5   diesel  mercedes_benz   \n",
       "51063   laguna     150000                    5   benzin        renault   \n",
       "30614     golf     150000                    8   benzin     volkswagen   \n",
       "\n",
       "       notRepairedDamage          dateCreated  nrOfPictures  postalCode  \\\n",
       "349915              nein  2016-04-03 00:00:00             0       55425   \n",
       "94709                 ja  2016-03-17 00:00:00             0       38723   \n",
       "260093              nein  2016-03-08 00:00:00             0       60486   \n",
       "51063               nein  2016-03-25 00:00:00             0       86720   \n",
       "30614                NaN  2016-03-30 00:00:00             0       23972   \n",
       "\n",
       "                   lastSeen  \n",
       "349915  2016-04-07 01:16:19  \n",
       "94709   2016-03-31 20:17:01  \n",
       "260093  2016-04-05 13:18:53  \n",
       "51063   2016-04-06 04:46:16  \n",
       "30614   2016-03-30 22:38:18  "
      ]
     },
     "execution_count": 2,
     "metadata": {},
     "output_type": "execute_result"
    }
   ],
   "source": [
    "raw = pd.read_csv('./data/autos.csv', encoding='ISO-8859-1')\n",
    "raw.sample(n=5)"
   ]
  },
  {
   "cell_type": "code",
   "execution_count": 3,
   "id": "ee39610d",
   "metadata": {
    "ExecuteTime": {
     "end_time": "2022-06-12T17:10:48.074300Z",
     "start_time": "2022-06-12T17:10:47.527168Z"
    }
   },
   "outputs": [
    {
     "data": {
      "text/html": [
       "<div>\n",
       "<style scoped>\n",
       "    .dataframe tbody tr th:only-of-type {\n",
       "        vertical-align: middle;\n",
       "    }\n",
       "\n",
       "    .dataframe tbody tr th {\n",
       "        vertical-align: top;\n",
       "    }\n",
       "\n",
       "    .dataframe thead th {\n",
       "        text-align: right;\n",
       "    }\n",
       "</style>\n",
       "<table border=\"1\" class=\"dataframe\">\n",
       "  <thead>\n",
       "    <tr style=\"text-align: right;\">\n",
       "      <th></th>\n",
       "      <th>dateCrawled</th>\n",
       "      <th>name</th>\n",
       "      <th>seller</th>\n",
       "      <th>offerType</th>\n",
       "      <th>price</th>\n",
       "      <th>abtest</th>\n",
       "      <th>vehicleType</th>\n",
       "      <th>yearOfRegistration</th>\n",
       "      <th>gearbox</th>\n",
       "      <th>powerPS</th>\n",
       "      <th>model</th>\n",
       "      <th>kilometer</th>\n",
       "      <th>monthOfRegistration</th>\n",
       "      <th>fuelType</th>\n",
       "      <th>brand</th>\n",
       "      <th>notRepairedDamage</th>\n",
       "      <th>dateCreated</th>\n",
       "      <th>nrOfPictures</th>\n",
       "      <th>postalCode</th>\n",
       "      <th>lastSeen</th>\n",
       "    </tr>\n",
       "  </thead>\n",
       "  <tbody>\n",
       "    <tr>\n",
       "      <th>count</th>\n",
       "      <td>371528</td>\n",
       "      <td>371528</td>\n",
       "      <td>371528</td>\n",
       "      <td>371528</td>\n",
       "      <td>3.715280e+05</td>\n",
       "      <td>371528</td>\n",
       "      <td>333659</td>\n",
       "      <td>371528.000000</td>\n",
       "      <td>351319</td>\n",
       "      <td>371528.000000</td>\n",
       "      <td>351044</td>\n",
       "      <td>371528.000000</td>\n",
       "      <td>371528.000000</td>\n",
       "      <td>338142</td>\n",
       "      <td>371528</td>\n",
       "      <td>299468</td>\n",
       "      <td>371528</td>\n",
       "      <td>371528.0</td>\n",
       "      <td>371528.00000</td>\n",
       "      <td>371528</td>\n",
       "    </tr>\n",
       "    <tr>\n",
       "      <th>unique</th>\n",
       "      <td>280500</td>\n",
       "      <td>233531</td>\n",
       "      <td>2</td>\n",
       "      <td>2</td>\n",
       "      <td>NaN</td>\n",
       "      <td>2</td>\n",
       "      <td>8</td>\n",
       "      <td>NaN</td>\n",
       "      <td>2</td>\n",
       "      <td>NaN</td>\n",
       "      <td>251</td>\n",
       "      <td>NaN</td>\n",
       "      <td>NaN</td>\n",
       "      <td>7</td>\n",
       "      <td>40</td>\n",
       "      <td>2</td>\n",
       "      <td>114</td>\n",
       "      <td>NaN</td>\n",
       "      <td>NaN</td>\n",
       "      <td>182806</td>\n",
       "    </tr>\n",
       "    <tr>\n",
       "      <th>top</th>\n",
       "      <td>2016-03-24 14:49:47</td>\n",
       "      <td>Ford_Fiesta</td>\n",
       "      <td>privat</td>\n",
       "      <td>Angebot</td>\n",
       "      <td>NaN</td>\n",
       "      <td>test</td>\n",
       "      <td>limousine</td>\n",
       "      <td>NaN</td>\n",
       "      <td>manuell</td>\n",
       "      <td>NaN</td>\n",
       "      <td>golf</td>\n",
       "      <td>NaN</td>\n",
       "      <td>NaN</td>\n",
       "      <td>benzin</td>\n",
       "      <td>volkswagen</td>\n",
       "      <td>nein</td>\n",
       "      <td>2016-04-03 00:00:00</td>\n",
       "      <td>NaN</td>\n",
       "      <td>NaN</td>\n",
       "      <td>2016-04-07 06:45:59</td>\n",
       "    </tr>\n",
       "    <tr>\n",
       "      <th>freq</th>\n",
       "      <td>7</td>\n",
       "      <td>657</td>\n",
       "      <td>371525</td>\n",
       "      <td>371516</td>\n",
       "      <td>NaN</td>\n",
       "      <td>192585</td>\n",
       "      <td>95894</td>\n",
       "      <td>NaN</td>\n",
       "      <td>274214</td>\n",
       "      <td>NaN</td>\n",
       "      <td>30070</td>\n",
       "      <td>NaN</td>\n",
       "      <td>NaN</td>\n",
       "      <td>223857</td>\n",
       "      <td>79640</td>\n",
       "      <td>263182</td>\n",
       "      <td>14450</td>\n",
       "      <td>NaN</td>\n",
       "      <td>NaN</td>\n",
       "      <td>17</td>\n",
       "    </tr>\n",
       "    <tr>\n",
       "      <th>mean</th>\n",
       "      <td>NaN</td>\n",
       "      <td>NaN</td>\n",
       "      <td>NaN</td>\n",
       "      <td>NaN</td>\n",
       "      <td>1.729514e+04</td>\n",
       "      <td>NaN</td>\n",
       "      <td>NaN</td>\n",
       "      <td>2004.577997</td>\n",
       "      <td>NaN</td>\n",
       "      <td>115.549477</td>\n",
       "      <td>NaN</td>\n",
       "      <td>125618.688228</td>\n",
       "      <td>5.734445</td>\n",
       "      <td>NaN</td>\n",
       "      <td>NaN</td>\n",
       "      <td>NaN</td>\n",
       "      <td>NaN</td>\n",
       "      <td>0.0</td>\n",
       "      <td>50820.66764</td>\n",
       "      <td>NaN</td>\n",
       "    </tr>\n",
       "    <tr>\n",
       "      <th>std</th>\n",
       "      <td>NaN</td>\n",
       "      <td>NaN</td>\n",
       "      <td>NaN</td>\n",
       "      <td>NaN</td>\n",
       "      <td>3.587954e+06</td>\n",
       "      <td>NaN</td>\n",
       "      <td>NaN</td>\n",
       "      <td>92.866598</td>\n",
       "      <td>NaN</td>\n",
       "      <td>192.139578</td>\n",
       "      <td>NaN</td>\n",
       "      <td>40112.337051</td>\n",
       "      <td>3.712412</td>\n",
       "      <td>NaN</td>\n",
       "      <td>NaN</td>\n",
       "      <td>NaN</td>\n",
       "      <td>NaN</td>\n",
       "      <td>0.0</td>\n",
       "      <td>25799.08247</td>\n",
       "      <td>NaN</td>\n",
       "    </tr>\n",
       "    <tr>\n",
       "      <th>min</th>\n",
       "      <td>NaN</td>\n",
       "      <td>NaN</td>\n",
       "      <td>NaN</td>\n",
       "      <td>NaN</td>\n",
       "      <td>0.000000e+00</td>\n",
       "      <td>NaN</td>\n",
       "      <td>NaN</td>\n",
       "      <td>1000.000000</td>\n",
       "      <td>NaN</td>\n",
       "      <td>0.000000</td>\n",
       "      <td>NaN</td>\n",
       "      <td>5000.000000</td>\n",
       "      <td>0.000000</td>\n",
       "      <td>NaN</td>\n",
       "      <td>NaN</td>\n",
       "      <td>NaN</td>\n",
       "      <td>NaN</td>\n",
       "      <td>0.0</td>\n",
       "      <td>1067.00000</td>\n",
       "      <td>NaN</td>\n",
       "    </tr>\n",
       "    <tr>\n",
       "      <th>25%</th>\n",
       "      <td>NaN</td>\n",
       "      <td>NaN</td>\n",
       "      <td>NaN</td>\n",
       "      <td>NaN</td>\n",
       "      <td>1.150000e+03</td>\n",
       "      <td>NaN</td>\n",
       "      <td>NaN</td>\n",
       "      <td>1999.000000</td>\n",
       "      <td>NaN</td>\n",
       "      <td>70.000000</td>\n",
       "      <td>NaN</td>\n",
       "      <td>125000.000000</td>\n",
       "      <td>3.000000</td>\n",
       "      <td>NaN</td>\n",
       "      <td>NaN</td>\n",
       "      <td>NaN</td>\n",
       "      <td>NaN</td>\n",
       "      <td>0.0</td>\n",
       "      <td>30459.00000</td>\n",
       "      <td>NaN</td>\n",
       "    </tr>\n",
       "    <tr>\n",
       "      <th>50%</th>\n",
       "      <td>NaN</td>\n",
       "      <td>NaN</td>\n",
       "      <td>NaN</td>\n",
       "      <td>NaN</td>\n",
       "      <td>2.950000e+03</td>\n",
       "      <td>NaN</td>\n",
       "      <td>NaN</td>\n",
       "      <td>2003.000000</td>\n",
       "      <td>NaN</td>\n",
       "      <td>105.000000</td>\n",
       "      <td>NaN</td>\n",
       "      <td>150000.000000</td>\n",
       "      <td>6.000000</td>\n",
       "      <td>NaN</td>\n",
       "      <td>NaN</td>\n",
       "      <td>NaN</td>\n",
       "      <td>NaN</td>\n",
       "      <td>0.0</td>\n",
       "      <td>49610.00000</td>\n",
       "      <td>NaN</td>\n",
       "    </tr>\n",
       "    <tr>\n",
       "      <th>75%</th>\n",
       "      <td>NaN</td>\n",
       "      <td>NaN</td>\n",
       "      <td>NaN</td>\n",
       "      <td>NaN</td>\n",
       "      <td>7.200000e+03</td>\n",
       "      <td>NaN</td>\n",
       "      <td>NaN</td>\n",
       "      <td>2008.000000</td>\n",
       "      <td>NaN</td>\n",
       "      <td>150.000000</td>\n",
       "      <td>NaN</td>\n",
       "      <td>150000.000000</td>\n",
       "      <td>9.000000</td>\n",
       "      <td>NaN</td>\n",
       "      <td>NaN</td>\n",
       "      <td>NaN</td>\n",
       "      <td>NaN</td>\n",
       "      <td>0.0</td>\n",
       "      <td>71546.00000</td>\n",
       "      <td>NaN</td>\n",
       "    </tr>\n",
       "    <tr>\n",
       "      <th>max</th>\n",
       "      <td>NaN</td>\n",
       "      <td>NaN</td>\n",
       "      <td>NaN</td>\n",
       "      <td>NaN</td>\n",
       "      <td>2.147484e+09</td>\n",
       "      <td>NaN</td>\n",
       "      <td>NaN</td>\n",
       "      <td>9999.000000</td>\n",
       "      <td>NaN</td>\n",
       "      <td>20000.000000</td>\n",
       "      <td>NaN</td>\n",
       "      <td>150000.000000</td>\n",
       "      <td>12.000000</td>\n",
       "      <td>NaN</td>\n",
       "      <td>NaN</td>\n",
       "      <td>NaN</td>\n",
       "      <td>NaN</td>\n",
       "      <td>0.0</td>\n",
       "      <td>99998.00000</td>\n",
       "      <td>NaN</td>\n",
       "    </tr>\n",
       "  </tbody>\n",
       "</table>\n",
       "</div>"
      ],
      "text/plain": [
       "                dateCrawled         name  seller offerType         price  \\\n",
       "count                371528       371528  371528    371528  3.715280e+05   \n",
       "unique               280500       233531       2         2           NaN   \n",
       "top     2016-03-24 14:49:47  Ford_Fiesta  privat   Angebot           NaN   \n",
       "freq                      7          657  371525    371516           NaN   \n",
       "mean                    NaN          NaN     NaN       NaN  1.729514e+04   \n",
       "std                     NaN          NaN     NaN       NaN  3.587954e+06   \n",
       "min                     NaN          NaN     NaN       NaN  0.000000e+00   \n",
       "25%                     NaN          NaN     NaN       NaN  1.150000e+03   \n",
       "50%                     NaN          NaN     NaN       NaN  2.950000e+03   \n",
       "75%                     NaN          NaN     NaN       NaN  7.200000e+03   \n",
       "max                     NaN          NaN     NaN       NaN  2.147484e+09   \n",
       "\n",
       "        abtest vehicleType  yearOfRegistration  gearbox        powerPS  \\\n",
       "count   371528      333659       371528.000000   351319  371528.000000   \n",
       "unique       2           8                 NaN        2            NaN   \n",
       "top       test   limousine                 NaN  manuell            NaN   \n",
       "freq    192585       95894                 NaN   274214            NaN   \n",
       "mean       NaN         NaN         2004.577997      NaN     115.549477   \n",
       "std        NaN         NaN           92.866598      NaN     192.139578   \n",
       "min        NaN         NaN         1000.000000      NaN       0.000000   \n",
       "25%        NaN         NaN         1999.000000      NaN      70.000000   \n",
       "50%        NaN         NaN         2003.000000      NaN     105.000000   \n",
       "75%        NaN         NaN         2008.000000      NaN     150.000000   \n",
       "max        NaN         NaN         9999.000000      NaN   20000.000000   \n",
       "\n",
       "         model      kilometer  monthOfRegistration fuelType       brand  \\\n",
       "count   351044  371528.000000        371528.000000   338142      371528   \n",
       "unique     251            NaN                  NaN        7          40   \n",
       "top       golf            NaN                  NaN   benzin  volkswagen   \n",
       "freq     30070            NaN                  NaN   223857       79640   \n",
       "mean       NaN  125618.688228             5.734445      NaN         NaN   \n",
       "std        NaN   40112.337051             3.712412      NaN         NaN   \n",
       "min        NaN    5000.000000             0.000000      NaN         NaN   \n",
       "25%        NaN  125000.000000             3.000000      NaN         NaN   \n",
       "50%        NaN  150000.000000             6.000000      NaN         NaN   \n",
       "75%        NaN  150000.000000             9.000000      NaN         NaN   \n",
       "max        NaN  150000.000000            12.000000      NaN         NaN   \n",
       "\n",
       "       notRepairedDamage          dateCreated  nrOfPictures    postalCode  \\\n",
       "count             299468               371528      371528.0  371528.00000   \n",
       "unique                 2                  114           NaN           NaN   \n",
       "top                 nein  2016-04-03 00:00:00           NaN           NaN   \n",
       "freq              263182                14450           NaN           NaN   \n",
       "mean                 NaN                  NaN           0.0   50820.66764   \n",
       "std                  NaN                  NaN           0.0   25799.08247   \n",
       "min                  NaN                  NaN           0.0    1067.00000   \n",
       "25%                  NaN                  NaN           0.0   30459.00000   \n",
       "50%                  NaN                  NaN           0.0   49610.00000   \n",
       "75%                  NaN                  NaN           0.0   71546.00000   \n",
       "max                  NaN                  NaN           0.0   99998.00000   \n",
       "\n",
       "                   lastSeen  \n",
       "count                371528  \n",
       "unique               182806  \n",
       "top     2016-04-07 06:45:59  \n",
       "freq                     17  \n",
       "mean                    NaN  \n",
       "std                     NaN  \n",
       "min                     NaN  \n",
       "25%                     NaN  \n",
       "50%                     NaN  \n",
       "75%                     NaN  \n",
       "max                     NaN  "
      ]
     },
     "execution_count": 3,
     "metadata": {},
     "output_type": "execute_result"
    }
   ],
   "source": [
    "raw.describe(include='all')"
   ]
  },
  {
   "cell_type": "code",
   "execution_count": 5,
   "id": "641311f2",
   "metadata": {
    "ExecuteTime": {
     "end_time": "2022-06-11T14:21:13.765781Z",
     "start_time": "2022-06-11T14:21:13.719514Z"
    }
   },
   "outputs": [
    {
     "data": {
      "text/plain": [
       "array([nan, 'coupe', 'suv', 'kleinwagen', 'limousine', 'cabrio', 'bus',\n",
       "       'kombi', 'andere'], dtype=object)"
      ]
     },
     "execution_count": 5,
     "metadata": {},
     "output_type": "execute_result"
    }
   ],
   "source": [
    "raw['vehicleType'].unique()"
   ]
  },
  {
   "cell_type": "code",
   "execution_count": 4,
   "id": "6768ec4e",
   "metadata": {
    "ExecuteTime": {
     "end_time": "2022-06-12T17:11:05.724326Z",
     "start_time": "2022-06-12T17:11:05.687107Z"
    }
   },
   "outputs": [
    {
     "data": {
      "text/plain": [
       "array(['volkswagen', 'audi', 'jeep', 'skoda', 'bmw', 'peugeot', 'ford',\n",
       "       'mazda', 'nissan', 'renault', 'mercedes_benz', 'opel', 'seat',\n",
       "       'citroen', 'honda', 'fiat', 'mini', 'smart', 'hyundai',\n",
       "       'sonstige_autos', 'alfa_romeo', 'subaru', 'volvo', 'mitsubishi',\n",
       "       'kia', 'suzuki', 'lancia', 'porsche', 'toyota', 'chevrolet',\n",
       "       'dacia', 'daihatsu', 'trabant', 'saab', 'chrysler', 'jaguar',\n",
       "       'daewoo', 'rover', 'land_rover', 'lada'], dtype=object)"
      ]
     },
     "execution_count": 4,
     "metadata": {},
     "output_type": "execute_result"
    }
   ],
   "source": [
    "raw['brand'].unique()"
   ]
  },
  {
   "cell_type": "code",
   "execution_count": 5,
   "id": "b618597a",
   "metadata": {
    "ExecuteTime": {
     "end_time": "2022-06-12T17:15:39.493291Z",
     "start_time": "2022-06-12T17:15:39.457668Z"
    }
   },
   "outputs": [
    {
     "data": {
      "text/plain": [
       "array(['benzin', 'diesel', nan, 'lpg', 'andere', 'hybrid', 'cng',\n",
       "       'elektro'], dtype=object)"
      ]
     },
     "execution_count": 5,
     "metadata": {},
     "output_type": "execute_result"
    }
   ],
   "source": [
    "raw['fuelType'].unique()"
   ]
  },
  {
   "cell_type": "markdown",
   "id": "7394ea32",
   "metadata": {},
   "source": [
    "## Handling missing values"
   ]
  },
  {
   "cell_type": "code",
   "execution_count": 3,
   "id": "66b4aa8a",
   "metadata": {
    "ExecuteTime": {
     "end_time": "2022-05-16T00:20:01.097890Z",
     "start_time": "2022-05-16T00:20:00.180370Z"
    }
   },
   "outputs": [
    {
     "data": {
      "text/plain": [
       "dateCrawled                0\n",
       "name                       0\n",
       "seller                     0\n",
       "offerType                  0\n",
       "price                      0\n",
       "abtest                     0\n",
       "vehicleType            37869\n",
       "yearOfRegistration         0\n",
       "gearbox                20209\n",
       "powerPS                    0\n",
       "model                  20484\n",
       "kilometer                  0\n",
       "monthOfRegistration        0\n",
       "fuelType               33386\n",
       "brand                      0\n",
       "notRepairedDamage      72060\n",
       "dateCreated                0\n",
       "nrOfPictures               0\n",
       "postalCode                 0\n",
       "lastSeen                   0\n",
       "dtype: int64"
      ]
     },
     "execution_count": 3,
     "metadata": {},
     "output_type": "execute_result"
    }
   ],
   "source": [
    "raw.isna().sum()"
   ]
  },
  {
   "cell_type": "code",
   "execution_count": 4,
   "id": "014d31cc",
   "metadata": {
    "ExecuteTime": {
     "end_time": "2022-05-16T00:20:02.009022Z",
     "start_time": "2022-05-16T00:20:01.101729Z"
    }
   },
   "outputs": [
    {
     "name": "stdout",
     "output_type": "stream",
     "text": [
      "<class 'pandas.core.frame.DataFrame'>\n",
      "RangeIndex: 371528 entries, 0 to 371527\n",
      "Data columns (total 20 columns):\n",
      " #   Column               Non-Null Count   Dtype \n",
      "---  ------               --------------   ----- \n",
      " 0   dateCrawled          371528 non-null  object\n",
      " 1   name                 371528 non-null  object\n",
      " 2   seller               371528 non-null  object\n",
      " 3   offerType            371528 non-null  object\n",
      " 4   price                371528 non-null  int64 \n",
      " 5   abtest               371528 non-null  object\n",
      " 6   vehicleType          333659 non-null  object\n",
      " 7   yearOfRegistration   371528 non-null  int64 \n",
      " 8   gearbox              351319 non-null  object\n",
      " 9   powerPS              371528 non-null  int64 \n",
      " 10  model                351044 non-null  object\n",
      " 11  kilometer            371528 non-null  int64 \n",
      " 12  monthOfRegistration  371528 non-null  int64 \n",
      " 13  fuelType             338142 non-null  object\n",
      " 14  brand                371528 non-null  object\n",
      " 15  notRepairedDamage    299468 non-null  object\n",
      " 16  dateCreated          371528 non-null  object\n",
      " 17  nrOfPictures         371528 non-null  int64 \n",
      " 18  postalCode           371528 non-null  int64 \n",
      " 19  lastSeen             371528 non-null  object\n",
      "dtypes: int64(7), object(13)\n",
      "memory usage: 56.7+ MB\n"
     ]
    }
   ],
   "source": [
    "raw.info()"
   ]
  },
  {
   "cell_type": "code",
   "execution_count": 5,
   "id": "b1c00ce6",
   "metadata": {
    "ExecuteTime": {
     "end_time": "2022-05-16T00:20:02.224446Z",
     "start_time": "2022-05-16T00:20:02.012101Z"
    }
   },
   "outputs": [],
   "source": [
    "raw = raw.astype({\n",
    "    'yearOfRegistration': object,\n",
    "    'powerPS': object,\n",
    "    'monthOfRegistration': object,\n",
    "    'nrOfPictures': object,\n",
    "    'postalCode': object\n",
    "})"
   ]
  },
  {
   "cell_type": "code",
   "execution_count": 6,
   "id": "5ca0ba30",
   "metadata": {
    "ExecuteTime": {
     "end_time": "2022-05-16T00:20:03.554838Z",
     "start_time": "2022-05-16T00:20:02.226720Z"
    }
   },
   "outputs": [
    {
     "data": {
      "text/plain": [
       "dateCrawled            0\n",
       "name                   0\n",
       "seller                 0\n",
       "offerType              0\n",
       "price                  0\n",
       "abtest                 0\n",
       "vehicleType            0\n",
       "yearOfRegistration     0\n",
       "gearbox                0\n",
       "powerPS                0\n",
       "model                  0\n",
       "kilometer              0\n",
       "monthOfRegistration    0\n",
       "fuelType               0\n",
       "brand                  0\n",
       "notRepairedDamage      0\n",
       "dateCreated            0\n",
       "nrOfPictures           0\n",
       "postalCode             0\n",
       "lastSeen               0\n",
       "dtype: int64"
      ]
     },
     "execution_count": 6,
     "metadata": {},
     "output_type": "execute_result"
    }
   ],
   "source": [
    "raw.loc[:, 'vehicleType'] = raw.loc[:, 'vehicleType'].fillna('any')\n",
    "raw.loc[:, 'gearbox'] = raw.loc[:, 'gearbox'].fillna('any')\n",
    "raw.loc[:, 'model'] = raw.loc[:, 'model'].fillna('any')\n",
    "raw.loc[:, 'fuelType'] = raw.loc[:, 'fuelType'].fillna('any')\n",
    "raw.loc[:, 'notRepairedDamage'] = raw.loc[:, 'notRepairedDamage'].fillna('not specified')\n",
    "\n",
    "raw.isna().sum()"
   ]
  },
  {
   "cell_type": "markdown",
   "id": "b1f0c9dd",
   "metadata": {},
   "source": [
    "## Feature engineering"
   ]
  },
  {
   "cell_type": "code",
   "execution_count": 7,
   "id": "f30583f5",
   "metadata": {
    "ExecuteTime": {
     "end_time": "2022-05-16T00:20:04.122803Z",
     "start_time": "2022-05-16T00:20:03.557572Z"
    }
   },
   "outputs": [
    {
     "data": {
      "text/html": [
       "<div>\n",
       "<style scoped>\n",
       "    .dataframe tbody tr th:only-of-type {\n",
       "        vertical-align: middle;\n",
       "    }\n",
       "\n",
       "    .dataframe tbody tr th {\n",
       "        vertical-align: top;\n",
       "    }\n",
       "\n",
       "    .dataframe thead th {\n",
       "        text-align: right;\n",
       "    }\n",
       "</style>\n",
       "<table border=\"1\" class=\"dataframe\">\n",
       "  <thead>\n",
       "    <tr style=\"text-align: right;\">\n",
       "      <th></th>\n",
       "      <th>seller</th>\n",
       "      <th>offerType</th>\n",
       "      <th>price</th>\n",
       "      <th>abtest</th>\n",
       "      <th>vehicleType</th>\n",
       "      <th>yearOfRegistration</th>\n",
       "      <th>gearbox</th>\n",
       "      <th>powerPS</th>\n",
       "      <th>model</th>\n",
       "      <th>kilometer</th>\n",
       "      <th>monthOfRegistration</th>\n",
       "      <th>fuelType</th>\n",
       "      <th>brand</th>\n",
       "      <th>notRepairedDamage</th>\n",
       "      <th>nrOfPictures</th>\n",
       "      <th>postalCode</th>\n",
       "      <th>monthCreated</th>\n",
       "    </tr>\n",
       "  </thead>\n",
       "  <tbody>\n",
       "    <tr>\n",
       "      <th>359778</th>\n",
       "      <td>privat</td>\n",
       "      <td>Angebot</td>\n",
       "      <td>3000</td>\n",
       "      <td>control</td>\n",
       "      <td>limousine</td>\n",
       "      <td>2008</td>\n",
       "      <td>manuell</td>\n",
       "      <td>125</td>\n",
       "      <td>megane</td>\n",
       "      <td>125000</td>\n",
       "      <td>7</td>\n",
       "      <td>diesel</td>\n",
       "      <td>renault</td>\n",
       "      <td>ja</td>\n",
       "      <td>0</td>\n",
       "      <td>7318</td>\n",
       "      <td>3</td>\n",
       "    </tr>\n",
       "    <tr>\n",
       "      <th>59857</th>\n",
       "      <td>privat</td>\n",
       "      <td>Angebot</td>\n",
       "      <td>12500</td>\n",
       "      <td>control</td>\n",
       "      <td>suv</td>\n",
       "      <td>1975</td>\n",
       "      <td>manuell</td>\n",
       "      <td>69</td>\n",
       "      <td>andere</td>\n",
       "      <td>70000</td>\n",
       "      <td>12</td>\n",
       "      <td>benzin</td>\n",
       "      <td>land_rover</td>\n",
       "      <td>nein</td>\n",
       "      <td>0</td>\n",
       "      <td>24960</td>\n",
       "      <td>3</td>\n",
       "    </tr>\n",
       "    <tr>\n",
       "      <th>45925</th>\n",
       "      <td>privat</td>\n",
       "      <td>Angebot</td>\n",
       "      <td>600</td>\n",
       "      <td>test</td>\n",
       "      <td>andere</td>\n",
       "      <td>1984</td>\n",
       "      <td>manuell</td>\n",
       "      <td>55</td>\n",
       "      <td>caddy</td>\n",
       "      <td>5000</td>\n",
       "      <td>1</td>\n",
       "      <td>diesel</td>\n",
       "      <td>volkswagen</td>\n",
       "      <td>nein</td>\n",
       "      <td>0</td>\n",
       "      <td>59348</td>\n",
       "      <td>3</td>\n",
       "    </tr>\n",
       "    <tr>\n",
       "      <th>362081</th>\n",
       "      <td>privat</td>\n",
       "      <td>Angebot</td>\n",
       "      <td>2600</td>\n",
       "      <td>control</td>\n",
       "      <td>limousine</td>\n",
       "      <td>1988</td>\n",
       "      <td>automatik</td>\n",
       "      <td>147</td>\n",
       "      <td>andere</td>\n",
       "      <td>150000</td>\n",
       "      <td>5</td>\n",
       "      <td>diesel</td>\n",
       "      <td>mercedes_benz</td>\n",
       "      <td>nein</td>\n",
       "      <td>0</td>\n",
       "      <td>72661</td>\n",
       "      <td>3</td>\n",
       "    </tr>\n",
       "    <tr>\n",
       "      <th>185714</th>\n",
       "      <td>privat</td>\n",
       "      <td>Angebot</td>\n",
       "      <td>2990</td>\n",
       "      <td>control</td>\n",
       "      <td>kombi</td>\n",
       "      <td>2002</td>\n",
       "      <td>automatik</td>\n",
       "      <td>143</td>\n",
       "      <td>c_klasse</td>\n",
       "      <td>150000</td>\n",
       "      <td>7</td>\n",
       "      <td>diesel</td>\n",
       "      <td>mercedes_benz</td>\n",
       "      <td>nein</td>\n",
       "      <td>0</td>\n",
       "      <td>33100</td>\n",
       "      <td>3</td>\n",
       "    </tr>\n",
       "  </tbody>\n",
       "</table>\n",
       "</div>"
      ],
      "text/plain": [
       "        seller offerType  price   abtest vehicleType yearOfRegistration  \\\n",
       "359778  privat   Angebot   3000  control   limousine               2008   \n",
       "59857   privat   Angebot  12500  control         suv               1975   \n",
       "45925   privat   Angebot    600     test      andere               1984   \n",
       "362081  privat   Angebot   2600  control   limousine               1988   \n",
       "185714  privat   Angebot   2990  control       kombi               2002   \n",
       "\n",
       "          gearbox powerPS     model  kilometer monthOfRegistration fuelType  \\\n",
       "359778    manuell     125    megane     125000                   7   diesel   \n",
       "59857     manuell      69    andere      70000                  12   benzin   \n",
       "45925     manuell      55     caddy       5000                   1   diesel   \n",
       "362081  automatik     147    andere     150000                   5   diesel   \n",
       "185714  automatik     143  c_klasse     150000                   7   diesel   \n",
       "\n",
       "                brand notRepairedDamage nrOfPictures postalCode  monthCreated  \n",
       "359778        renault                ja            0       7318             3  \n",
       "59857      land_rover              nein            0      24960             3  \n",
       "45925      volkswagen              nein            0      59348             3  \n",
       "362081  mercedes_benz              nein            0      72661             3  \n",
       "185714  mercedes_benz              nein            0      33100             3  "
      ]
     },
     "execution_count": 7,
     "metadata": {},
     "output_type": "execute_result"
    }
   ],
   "source": [
    "filtered_raw = raw.drop(['dateCrawled', 'lastSeen', 'name'], axis=1)\n",
    "filtered_raw['monthCreated'] = pd.DatetimeIndex(filtered_raw['dateCreated']).month\n",
    "filtered_raw.drop(['dateCreated'], axis=1, inplace=True)\n",
    "\n",
    "filtered_raw.sample(n=5)"
   ]
  },
  {
   "cell_type": "code",
   "execution_count": 8,
   "id": "056bc37a",
   "metadata": {
    "ExecuteTime": {
     "end_time": "2022-05-16T00:20:04.658897Z",
     "start_time": "2022-05-16T00:20:04.125823Z"
    }
   },
   "outputs": [
    {
     "data": {
      "text/plain": [
       "12907"
      ]
     },
     "execution_count": 8,
     "metadata": {},
     "output_type": "execute_result"
    }
   ],
   "source": [
    "filtered_raw.duplicated().sum()"
   ]
  },
  {
   "cell_type": "code",
   "execution_count": 9,
   "id": "a09e5675",
   "metadata": {
    "ExecuteTime": {
     "end_time": "2022-05-16T00:20:05.560050Z",
     "start_time": "2022-05-16T00:20:04.661731Z"
    }
   },
   "outputs": [
    {
     "name": "stdout",
     "output_type": "stream",
     "text": [
      "358621\n"
     ]
    },
    {
     "data": {
      "text/plain": [
       "seller                    2\n",
       "offerType                 2\n",
       "price                  5597\n",
       "abtest                    2\n",
       "vehicleType               9\n",
       "yearOfRegistration      155\n",
       "gearbox                   3\n",
       "powerPS                 794\n",
       "model                   252\n",
       "kilometer                13\n",
       "monthOfRegistration      13\n",
       "fuelType                  8\n",
       "brand                    40\n",
       "notRepairedDamage         3\n",
       "nrOfPictures              1\n",
       "postalCode             8150\n",
       "monthCreated             10\n",
       "dtype: int64"
      ]
     },
     "execution_count": 9,
     "metadata": {},
     "output_type": "execute_result"
    }
   ],
   "source": [
    "filtered_raw.drop_duplicates(inplace=True)\n",
    "print(len(filtered_raw))\n",
    "filtered_raw.nunique()"
   ]
  },
  {
   "cell_type": "code",
   "execution_count": 10,
   "id": "56c67b3a",
   "metadata": {
    "ExecuteTime": {
     "end_time": "2022-05-16T00:20:05.651099Z",
     "start_time": "2022-05-16T00:20:05.565824Z"
    }
   },
   "outputs": [],
   "source": [
    "filtered_raw.drop(['nrOfPictures'], axis=1, inplace=True)"
   ]
  },
  {
   "cell_type": "code",
   "execution_count": 11,
   "id": "37e939a5",
   "metadata": {
    "ExecuteTime": {
     "end_time": "2022-05-16T00:20:05.839736Z",
     "start_time": "2022-05-16T00:20:05.653834Z"
    }
   },
   "outputs": [],
   "source": [
    "filtered_raw.drop(filtered_raw[filtered_raw['powerPS'] == 0].index, inplace=True)"
   ]
  },
  {
   "cell_type": "markdown",
   "id": "caacff91",
   "metadata": {
    "ExecuteTime": {
     "end_time": "2022-05-07T23:41:48.296678Z",
     "start_time": "2022-05-07T23:41:43.296162Z"
    }
   },
   "source": [
    "## Data Exploration"
   ]
  },
  {
   "cell_type": "code",
   "execution_count": 12,
   "id": "67cb152c",
   "metadata": {
    "ExecuteTime": {
     "end_time": "2022-05-16T00:20:09.709758Z",
     "start_time": "2022-05-16T00:20:05.841902Z"
    },
    "scrolled": false
   },
   "outputs": [
    {
     "data": {
      "image/png": "[encoded data removed]",
      "text/plain": [
       "<Figure size 1296x1296 with 9 Axes>"
      ]
     },
     "metadata": {
      "needs_background": "light"
     },
     "output_type": "display_data"
    }
   ],
   "source": [
    "fig, axes = plt.subplots(nrows=3, ncols=3, figsize=(18, 18))\n",
    "sns.countplot(x='seller', data=filtered_raw, ax= axes[0,0])\n",
    "sns.countplot(x='offerType', data=filtered_raw, ax= axes[0,1])\n",
    "sns.countplot(x='gearbox', data=filtered_raw, ax= axes[0,2])\n",
    "sns.countplot(x='abtest', data=filtered_raw, ax= axes[1,0])\n",
    "sns.countplot(x='vehicleType', data=filtered_raw, ax= axes[1,1])\n",
    "sns.countplot(x='monthOfRegistration', data=filtered_raw, ax= axes[1,2])\n",
    "sns.countplot(x='fuelType', data=filtered_raw, ax= axes[2,0])\n",
    "sns.countplot(x='notRepairedDamage', data=filtered_raw, ax= axes[2,1])\n",
    "sns.countplot(x='monthCreated', data=filtered_raw, ax= axes[2,2])\n",
    "plt.show()"
   ]
  },
  {
   "cell_type": "code",
   "execution_count": 13,
   "id": "07b1ed5e",
   "metadata": {
    "ExecuteTime": {
     "end_time": "2022-05-16T00:20:09.772875Z",
     "start_time": "2022-05-16T00:20:09.711546Z"
    }
   },
   "outputs": [
    {
     "data": {
      "text/html": [
       "<div>\n",
       "<style scoped>\n",
       "    .dataframe tbody tr th:only-of-type {\n",
       "        vertical-align: middle;\n",
       "    }\n",
       "\n",
       "    .dataframe tbody tr th {\n",
       "        vertical-align: top;\n",
       "    }\n",
       "\n",
       "    .dataframe thead th {\n",
       "        text-align: right;\n",
       "    }\n",
       "</style>\n",
       "<table border=\"1\" class=\"dataframe\">\n",
       "  <thead>\n",
       "    <tr style=\"text-align: right;\">\n",
       "      <th></th>\n",
       "      <th>price</th>\n",
       "      <th>abtest</th>\n",
       "      <th>vehicleType</th>\n",
       "      <th>yearOfRegistration</th>\n",
       "      <th>gearbox</th>\n",
       "      <th>powerPS</th>\n",
       "      <th>model</th>\n",
       "      <th>kilometer</th>\n",
       "      <th>monthOfRegistration</th>\n",
       "      <th>fuelType</th>\n",
       "      <th>brand</th>\n",
       "      <th>notRepairedDamage</th>\n",
       "      <th>postalCode</th>\n",
       "    </tr>\n",
       "  </thead>\n",
       "  <tbody>\n",
       "    <tr>\n",
       "      <th>1</th>\n",
       "      <td>18300</td>\n",
       "      <td>test</td>\n",
       "      <td>coupe</td>\n",
       "      <td>2011</td>\n",
       "      <td>manuell</td>\n",
       "      <td>190</td>\n",
       "      <td>any</td>\n",
       "      <td>125000</td>\n",
       "      <td>5</td>\n",
       "      <td>diesel</td>\n",
       "      <td>audi</td>\n",
       "      <td>ja</td>\n",
       "      <td>66954</td>\n",
       "    </tr>\n",
       "    <tr>\n",
       "      <th>2</th>\n",
       "      <td>9800</td>\n",
       "      <td>test</td>\n",
       "      <td>suv</td>\n",
       "      <td>2004</td>\n",
       "      <td>automatik</td>\n",
       "      <td>163</td>\n",
       "      <td>grand</td>\n",
       "      <td>125000</td>\n",
       "      <td>8</td>\n",
       "      <td>diesel</td>\n",
       "      <td>jeep</td>\n",
       "      <td>not specified</td>\n",
       "      <td>90480</td>\n",
       "    </tr>\n",
       "    <tr>\n",
       "      <th>3</th>\n",
       "      <td>1500</td>\n",
       "      <td>test</td>\n",
       "      <td>kleinwagen</td>\n",
       "      <td>2001</td>\n",
       "      <td>manuell</td>\n",
       "      <td>75</td>\n",
       "      <td>golf</td>\n",
       "      <td>150000</td>\n",
       "      <td>6</td>\n",
       "      <td>benzin</td>\n",
       "      <td>volkswagen</td>\n",
       "      <td>nein</td>\n",
       "      <td>91074</td>\n",
       "    </tr>\n",
       "    <tr>\n",
       "      <th>4</th>\n",
       "      <td>3600</td>\n",
       "      <td>test</td>\n",
       "      <td>kleinwagen</td>\n",
       "      <td>2008</td>\n",
       "      <td>manuell</td>\n",
       "      <td>69</td>\n",
       "      <td>fabia</td>\n",
       "      <td>90000</td>\n",
       "      <td>7</td>\n",
       "      <td>diesel</td>\n",
       "      <td>skoda</td>\n",
       "      <td>nein</td>\n",
       "      <td>60437</td>\n",
       "    </tr>\n",
       "    <tr>\n",
       "      <th>5</th>\n",
       "      <td>650</td>\n",
       "      <td>test</td>\n",
       "      <td>limousine</td>\n",
       "      <td>1995</td>\n",
       "      <td>manuell</td>\n",
       "      <td>102</td>\n",
       "      <td>3er</td>\n",
       "      <td>150000</td>\n",
       "      <td>10</td>\n",
       "      <td>benzin</td>\n",
       "      <td>bmw</td>\n",
       "      <td>ja</td>\n",
       "      <td>33775</td>\n",
       "    </tr>\n",
       "  </tbody>\n",
       "</table>\n",
       "</div>"
      ],
      "text/plain": [
       "   price abtest vehicleType yearOfRegistration    gearbox powerPS  model  \\\n",
       "1  18300   test       coupe               2011    manuell     190    any   \n",
       "2   9800   test         suv               2004  automatik     163  grand   \n",
       "3   1500   test  kleinwagen               2001    manuell      75   golf   \n",
       "4   3600   test  kleinwagen               2008    manuell      69  fabia   \n",
       "5    650   test   limousine               1995    manuell     102    3er   \n",
       "\n",
       "   kilometer monthOfRegistration fuelType       brand notRepairedDamage  \\\n",
       "1     125000                   5   diesel        audi                ja   \n",
       "2     125000                   8   diesel        jeep     not specified   \n",
       "3     150000                   6   benzin  volkswagen              nein   \n",
       "4      90000                   7   diesel       skoda              nein   \n",
       "5     150000                  10   benzin         bmw                ja   \n",
       "\n",
       "  postalCode  \n",
       "1      66954  \n",
       "2      90480  \n",
       "3      91074  \n",
       "4      60437  \n",
       "5      33775  "
      ]
     },
     "execution_count": 13,
     "metadata": {},
     "output_type": "execute_result"
    }
   ],
   "source": [
    "updated_raw = filtered_raw.drop(['seller', 'offerType', 'monthCreated'], axis= 1)\n",
    "updated_raw.head(5)"
   ]
  },
  {
   "cell_type": "markdown",
   "id": "bd44c723",
   "metadata": {},
   "source": [
    "## Correlations"
   ]
  },
  {
   "cell_type": "code",
   "execution_count": 14,
   "id": "da7f011a",
   "metadata": {
    "ExecuteTime": {
     "end_time": "2022-05-16T00:20:16.875013Z",
     "start_time": "2022-05-16T00:20:09.775873Z"
    }
   },
   "outputs": [
    {
     "data": {
      "text/plain": [
       "price (con)                  1.000000\n",
       "fuelType (nom)               0.096930\n",
       "brand (nom)                  0.021318\n",
       "vehicleType (nom)            0.019141\n",
       "model (nom)                  0.009142\n",
       "powerPS (con)                0.007164\n",
       "notRepairedDamage (nom)      0.005146\n",
       "abtest (nom)                 0.001649\n",
       "gearbox (nom)                0.000387\n",
       "kilometer (con)              0.000114\n",
       "yearOfRegistration (con)    -0.000434\n",
       "monthOfRegistration (con)   -0.002550\n",
       "postalCode (con)            -0.002985\n",
       "Name: price (con), dtype: float64"
      ]
     },
     "execution_count": 14,
     "metadata": {},
     "output_type": "execute_result"
    }
   ],
   "source": [
    "data_corr_result = nominal.associations(updated_raw, mark_columns=True, compute_only=True)\n",
    "data_corr = pd.DataFrame(data_corr_result['corr'])\n",
    "\n",
    "data_corr.sort_values([\"price (con)\"], ascending = False, inplace = True)\n",
    "data_corr[\"price (con)\"]"
   ]
  },
  {
   "cell_type": "code",
   "execution_count": 15,
   "id": "e200f77b",
   "metadata": {
    "ExecuteTime": {
     "end_time": "2022-05-16T00:20:17.804280Z",
     "start_time": "2022-05-16T00:20:16.877978Z"
    }
   },
   "outputs": [
    {
     "data": {
      "image/png": "[encoded data removed]",
      "text/plain": [
       "<Figure size 1296x576 with 2 Axes>"
      ]
     },
     "metadata": {
      "needs_background": "light"
     },
     "output_type": "display_data"
    }
   ],
   "source": [
    "plt.figure(figsize=(18, 8))\n",
    "mask = np.zeros_like(data_corr, dtype=bool)\n",
    "mask[np.triu_indices_from(mask)] = True\n",
    "sns.heatmap(data_corr, vmin=-1, vmax=1, cmap='coolwarm', mask = mask,annot=True, linewidths=0.1)\n",
    "plt.show()"
   ]
  },
  {
   "cell_type": "markdown",
   "id": "bae0f26e",
   "metadata": {},
   "source": [
    "## Baseline"
   ]
  },
  {
   "cell_type": "code",
   "execution_count": 16,
   "id": "3fdee799",
   "metadata": {
    "ExecuteTime": {
     "end_time": "2022-05-16T00:20:17.826362Z",
     "start_time": "2022-05-16T00:20:17.806950Z"
    }
   },
   "outputs": [],
   "source": [
    "from sklearn.model_selection import train_test_split\n",
    "\n",
    "continuous_features = ['powerPS', 'kilometer', 'price']\n",
    "continuous_predictors = ['powerPS', 'kilometer']\n",
    "categorical_features = ['vehicleType', 'brand', 'fuelType']\n",
    "\n",
    "data = updated_raw[['powerPS', 'vehicleType', 'brand', 'fuelType', 'kilometer', 'price']]"
   ]
  },
  {
   "cell_type": "code",
   "execution_count": 17,
   "id": "0688407d",
   "metadata": {
    "ExecuteTime": {
     "end_time": "2022-05-16T00:20:18.578471Z",
     "start_time": "2022-05-16T00:20:17.828946Z"
    }
   },
   "outputs": [
    {
     "data": {
      "text/plain": [
       "Index(['powerPS', 'kilometer', 'price'], dtype='object')"
      ]
     },
     "execution_count": 17,
     "metadata": {},
     "output_type": "execute_result"
    }
   ],
   "source": [
    "skewness = data[continuous_features].apply(lambda x: skew(x))\n",
    "skewness = skewness[abs(skewness) > 0.5]\n",
    "skewed_features = skewness.index\n",
    "data[skewed_features] = np.log1p(data[skewed_features].astype(float))\n",
    "\n",
    "skewed_features"
   ]
  },
  {
   "cell_type": "code",
   "execution_count": 18,
   "id": "1c71ef4d",
   "metadata": {
    "ExecuteTime": {
     "end_time": "2022-05-16T00:20:18.590325Z",
     "start_time": "2022-05-16T00:20:18.581458Z"
    }
   },
   "outputs": [],
   "source": [
    "skewed_predictors = ['powerPS', 'kilometer']"
   ]
  },
  {
   "cell_type": "code",
   "execution_count": 19,
   "id": "f57671fd",
   "metadata": {
    "ExecuteTime": {
     "end_time": "2022-05-16T00:20:18.826299Z",
     "start_time": "2022-05-16T00:20:18.604956Z"
    }
   },
   "outputs": [],
   "source": [
    "X = data.drop('price', axis=1)\n",
    "y = data['price']\n",
    "\n",
    "X_train, X_test, y_train, y_test = train_test_split(X, y, test_size = 0.25, random_state = 0)\n",
    "X_train, X_val, y_train, y_val = train_test_split(X_train, y_train, test_size = 0.25, random_state = 0)"
   ]
  },
  {
   "cell_type": "code",
   "execution_count": 20,
   "id": "812e4820",
   "metadata": {
    "ExecuteTime": {
     "end_time": "2022-05-16T00:20:18.857458Z",
     "start_time": "2022-05-16T00:20:18.828680Z"
    }
   },
   "outputs": [
    {
     "data": {
      "text/html": [
       "<div>\n",
       "<style scoped>\n",
       "    .dataframe tbody tr th:only-of-type {\n",
       "        vertical-align: middle;\n",
       "    }\n",
       "\n",
       "    .dataframe tbody tr th {\n",
       "        vertical-align: top;\n",
       "    }\n",
       "\n",
       "    .dataframe thead th {\n",
       "        text-align: right;\n",
       "    }\n",
       "</style>\n",
       "<table border=\"1\" class=\"dataframe\">\n",
       "  <thead>\n",
       "    <tr style=\"text-align: right;\">\n",
       "      <th></th>\n",
       "      <th>powerPS</th>\n",
       "      <th>vehicleType</th>\n",
       "      <th>brand</th>\n",
       "      <th>fuelType</th>\n",
       "      <th>kilometer</th>\n",
       "    </tr>\n",
       "  </thead>\n",
       "  <tbody>\n",
       "    <tr>\n",
       "      <th>279429</th>\n",
       "      <td>4.948760</td>\n",
       "      <td>bus</td>\n",
       "      <td>volkswagen</td>\n",
       "      <td>benzin</td>\n",
       "      <td>11.289794</td>\n",
       "    </tr>\n",
       "    <tr>\n",
       "      <th>70762</th>\n",
       "      <td>4.025352</td>\n",
       "      <td>kleinwagen</td>\n",
       "      <td>opel</td>\n",
       "      <td>benzin</td>\n",
       "      <td>11.918397</td>\n",
       "    </tr>\n",
       "    <tr>\n",
       "      <th>59260</th>\n",
       "      <td>4.110874</td>\n",
       "      <td>kombi</td>\n",
       "      <td>seat</td>\n",
       "      <td>benzin</td>\n",
       "      <td>10.596660</td>\n",
       "    </tr>\n",
       "    <tr>\n",
       "      <th>99512</th>\n",
       "      <td>4.812184</td>\n",
       "      <td>kombi</td>\n",
       "      <td>volkswagen</td>\n",
       "      <td>benzin</td>\n",
       "      <td>10.308986</td>\n",
       "    </tr>\n",
       "    <tr>\n",
       "      <th>349697</th>\n",
       "      <td>4.595120</td>\n",
       "      <td>cabrio</td>\n",
       "      <td>audi</td>\n",
       "      <td>benzin</td>\n",
       "      <td>8.517393</td>\n",
       "    </tr>\n",
       "  </tbody>\n",
       "</table>\n",
       "</div>"
      ],
      "text/plain": [
       "         powerPS vehicleType       brand fuelType  kilometer\n",
       "279429  4.948760         bus  volkswagen   benzin  11.289794\n",
       "70762   4.025352  kleinwagen        opel   benzin  11.918397\n",
       "59260   4.110874       kombi        seat   benzin  10.596660\n",
       "99512   4.812184       kombi  volkswagen   benzin  10.308986\n",
       "349697  4.595120      cabrio        audi   benzin   8.517393"
      ]
     },
     "execution_count": 20,
     "metadata": {},
     "output_type": "execute_result"
    }
   ],
   "source": [
    "X_train.sample(n=5)"
   ]
  },
  {
   "cell_type": "code",
   "execution_count": 21,
   "id": "b5075261",
   "metadata": {
    "ExecuteTime": {
     "end_time": "2022-05-16T00:20:19.108983Z",
     "start_time": "2022-05-16T00:20:18.860507Z"
    }
   },
   "outputs": [],
   "source": [
    "from sklearn.pipeline import Pipeline\n",
    "from sklearn.compose import ColumnTransformer\n",
    "from sklearn.preprocessing import OneHotEncoder, StandardScaler\n",
    "from sklearn.ensemble import RandomForestRegressor\n",
    "from sklearn.metrics import mean_absolute_error\n",
    "\n",
    "categorical_transformer = OneHotEncoder(handle_unknown=\"ignore\")\n",
    "numeric_transformer = StandardScaler()\n",
    "\n",
    "preprocessor = ColumnTransformer(\n",
    "    transformers=[\n",
    "        (\"cat\", categorical_transformer, categorical_features),\n",
    "        (\"num\", numeric_transformer, continuous_predictors),\n",
    "    ]\n",
    ")\n",
    "\n",
    "pipe = Pipeline([\n",
    "    ('preprocessor', preprocessor),\n",
    "    ('classifier', RandomForestRegressor())\n",
    "])"
   ]
  },
  {
   "cell_type": "code",
   "execution_count": 22,
   "id": "c94bcbf1",
   "metadata": {
    "ExecuteTime": {
     "end_time": "2022-05-15T22:54:14.557597Z",
     "start_time": "2022-05-15T22:34:51.524836Z"
    }
   },
   "outputs": [
    {
     "data": {
      "text/plain": [
       "0.648658180137547"
      ]
     },
     "execution_count": 22,
     "metadata": {},
     "output_type": "execute_result"
    }
   ],
   "source": [
    "pipe.fit(X_train, y_train)\n",
    "y_pred = pipe.predict(X_val)\n",
    "mean_absolute_error(y_val, y_pred)"
   ]
  },
  {
   "cell_type": "code",
   "execution_count": 24,
   "id": "8cbf1bf7",
   "metadata": {
    "ExecuteTime": {
     "end_time": "2022-05-16T00:39:04.687825Z",
     "start_time": "2022-05-16T00:35:07.921423Z"
    }
   },
   "outputs": [
    {
     "name": "stdout",
     "output_type": "stream",
     "text": [
      "Best parameter (score=0.373):\n",
      "{'classifier__max_depth': 8, 'classifier__n_estimators': 40}\n"
     ]
    }
   ],
   "source": [
    "from sklearn.model_selection import GridSearchCV\n",
    "\n",
    "param_grid = {\n",
    "    \"classifier__n_estimators\": [20, 40],\n",
    "    \"classifier__max_depth\": [5, 8]\n",
    "}\n",
    "\n",
    "search = GridSearchCV(pipe, param_grid, n_jobs=3)\n",
    "search.fit(X_train, y_train)\n",
    "print(\"Best parameter (score=%0.3f):\" % search.best_score_)\n",
    "print(search.best_params_)"
   ]
  },
  {
   "cell_type": "code",
   "execution_count": 23,
   "id": "72b9d58c",
   "metadata": {
    "ExecuteTime": {
     "end_time": "2022-05-16T00:33:48.177324Z",
     "start_time": "2022-05-16T00:33:34.085153Z"
    }
   },
   "outputs": [
    {
     "data": {
      "text/plain": [
       "0.7680978639677053"
      ]
     },
     "execution_count": 23,
     "metadata": {},
     "output_type": "execute_result"
    }
   ],
   "source": [
    "pipe_2 = Pipeline([\n",
    "    ('preprocessor', preprocessor),\n",
    "    ('classifier', RandomForestRegressor(n_estimators=50, max_depth=10, max_features=\"sqrt\"))\n",
    "])\n",
    "pipe_2.fit(X_train, y_train)\n",
    "y_pred_2 = pipe_2.predict(X_val)\n",
    "mean_absolute_error(y_val, y_pred_2)"
   ]
  },
  {
   "cell_type": "code",
   "execution_count": 25,
   "id": "f7f66304",
   "metadata": {
    "ExecuteTime": {
     "end_time": "2022-05-16T00:40:49.683478Z",
     "start_time": "2022-05-16T00:40:43.345547Z"
    }
   },
   "outputs": [
    {
     "data": {
      "text/plain": [
       "0.8051895753785769"
      ]
     },
     "execution_count": 25,
     "metadata": {},
     "output_type": "execute_result"
    }
   ],
   "source": [
    "pipe_3 = Pipeline([\n",
    "    ('preprocessor', preprocessor),\n",
    "    ('classifier', RandomForestRegressor(n_estimators=40, max_depth=8, max_features=\"sqrt\"))\n",
    "])\n",
    "pipe_3.fit(X_train, y_train)\n",
    "y_pred_3 = pipe_3.predict(X_val)\n",
    "mean_absolute_error(y_val, y_pred_3)"
   ]
  },
  {
   "cell_type": "code",
   "execution_count": null,
   "id": "8783f17e",
   "metadata": {},
   "outputs": [],
   "source": []
  }
 ],
 "metadata": {
  "kernelspec": {
   "display_name": "Python 3 (ipykernel)",
   "language": "python",
   "name": "python3"
  },
  "language_info": {
   "codemirror_mode": {
    "name": "ipython",
    "version": 3
   },
   "file_extension": ".py",
   "mimetype": "text/x-python",
   "name": "python",
   "nbconvert_exporter": "python",
   "pygments_lexer": "ipython3",
   "version": "3.9.12"
  },
  "toc": {
   "base_numbering": 1,
   "nav_menu": {},
   "number_sections": true,
   "sideBar": true,
   "skip_h1_title": false,
   "title_cell": "Table of Contents",
   "title_sidebar": "Contents",
   "toc_cell": false,
   "toc_position": {},
   "toc_section_display": true,
   "toc_window_display": false
  }
 },
 "nbformat": 4,
 "nbformat_minor": 5
}
