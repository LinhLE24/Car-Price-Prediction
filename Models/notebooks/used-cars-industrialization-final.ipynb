{
 "cells": [
  {
   "cell_type": "code",
   "execution_count": 1,
   "id": "3530f8ed",
   "metadata": {
    "ExecuteTime": {
     "end_time": "2022-05-16T01:16:15.391161Z",
     "start_time": "2022-05-16T01:16:15.292824Z"
    }
   },
   "outputs": [],
   "source": [
    "%load_ext autoreload\n",
    "%autoreload 2"
   ]
  },
  {
   "cell_type": "code",
   "execution_count": 2,
   "id": "cd741593",
   "metadata": {
    "ExecuteTime": {
     "end_time": "2022-05-16T01:16:16.228776Z",
     "start_time": "2022-05-16T01:16:16.206107Z"
    }
   },
   "outputs": [],
   "source": [
    "import warnings\n",
    "\n",
    "warnings.filterwarnings('ignore')"
   ]
  },
  {
   "cell_type": "code",
   "execution_count": 3,
   "id": "6db77dae",
   "metadata": {
    "ExecuteTime": {
     "end_time": "2022-05-16T01:16:48.819891Z",
     "start_time": "2022-05-16T01:16:23.053497Z"
    }
   },
   "outputs": [],
   "source": [
    "import pandas as pd\n",
    "from used_cars.train import build_model\n",
    "\n",
    "training_data_df = pd.read_csv('./data/autos.csv', encoding='ISO-8859-1')\n",
    "model_performance = build_model(training_data_df)"
   ]
  },
  {
   "cell_type": "code",
   "execution_count": 4,
   "id": "32965a3a",
   "metadata": {
    "ExecuteTime": {
     "end_time": "2022-05-16T01:16:54.344916Z",
     "start_time": "2022-05-16T01:16:54.295589Z"
    }
   },
   "outputs": [
    {
     "data": {
      "text/plain": [
       "0.7813353407916942"
      ]
     },
     "execution_count": 4,
     "metadata": {},
     "output_type": "execute_result"
    }
   ],
   "source": [
    "model_performance"
   ]
  },
  {
   "cell_type": "code",
   "execution_count": 5,
   "id": "08752417",
   "metadata": {
    "ExecuteTime": {
     "end_time": "2022-05-16T01:18:00.769739Z",
     "start_time": "2022-05-16T01:17:59.755950Z"
    },
    "scrolled": true
   },
   "outputs": [],
   "source": [
    "import pandas as pd\n",
    "from used_cars.inference import make_predictions\n",
    "\n",
    "user_data_df = pd.read_csv('./data/test.csv')\n",
    "predictions = make_predictions(user_data_df)"
   ]
  },
  {
   "cell_type": "code",
   "execution_count": 6,
   "id": "76e50333",
   "metadata": {
    "ExecuteTime": {
     "end_time": "2022-05-16T01:18:04.952849Z",
     "start_time": "2022-05-16T01:18:04.898651Z"
    }
   },
   "outputs": [
    {
     "data": {
      "text/plain": [
       "array([2891.19054452, 2126.22511865, 2795.31455835, ..., 2564.74170481,\n",
       "       2219.98981423, 2350.95859188])"
      ]
     },
     "execution_count": 6,
     "metadata": {},
     "output_type": "execute_result"
    }
   ],
   "source": [
    "predictions"
   ]
  },
  {
   "cell_type": "code",
   "execution_count": null,
   "id": "416c9c64",
   "metadata": {},
   "outputs": [],
   "source": []
  }
 ],
 "metadata": {
  "kernelspec": {
   "display_name": "Python 3 (ipykernel)",
   "language": "python",
   "name": "python3"
  },
  "language_info": {
   "codemirror_mode": {
    "name": "ipython",
    "version": 3
   },
   "file_extension": ".py",
   "mimetype": "text/x-python",
   "name": "python",
   "nbconvert_exporter": "python",
   "pygments_lexer": "ipython3",
   "version": "3.9.12"
  },
  "toc": {
   "base_numbering": 1,
   "nav_menu": {},
   "number_sections": true,
   "sideBar": true,
   "skip_h1_title": false,
   "title_cell": "Table of Contents",
   "title_sidebar": "Contents",
   "toc_cell": false,
   "toc_position": {},
   "toc_section_display": true,
   "toc_window_display": false
  }
 },
 "nbformat": 4,
 "nbformat_minor": 5
}
